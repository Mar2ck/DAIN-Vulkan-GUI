{
  "nbformat": 4,
  "nbformat_minor": 0,
  "metadata": {
    "colab": {
      "name": "DAINVulkanCLI-Colab.ipynb",
      "provenance": [],
      "private_outputs": true,
      "collapsed_sections": [],
      "toc_visible": true
    },
    "kernelspec": {
      "name": "python3",
      "display_name": "Python 3"
    },
    "accelerator": "GPU"
  },
  "cells": [
    {
      "cell_type": "markdown",
      "metadata": {
        "id": "F78H7JkR5c49",
        "colab_type": "text"
      },
      "source": [
        "# DAIN-Vulkan-GUI Colab\n",
        "[Mar2ck/DAIN-Vulkan-GUI](https://github.com/Mar2ck/DAIN-Vulkan-GUI/)"
      ]
    },
    {
      "cell_type": "code",
      "metadata": {
        "id": "O0fPt2JG4014",
        "colab_type": "code",
        "colab": {}
      },
      "source": [
        "# Check GPU\n",
        "!nvidia-smi"
      ],
      "execution_count": null,
      "outputs": []
    },
    {
      "cell_type": "code",
      "metadata": {
        "id": "-OapminG4kJV",
        "colab_type": "code",
        "colab": {}
      },
      "source": [
        "# Connect Google Drive\n",
        "from google.colab import drive\n",
        "drive.mount('/content/drive')\n",
        "print('Google Drive connected.')"
      ],
      "execution_count": null,
      "outputs": []
    },
    {
      "cell_type": "code",
      "metadata": {
        "id": "U94yuBubvpZo",
        "colab_type": "code",
        "colab": {}
      },
      "source": [
        "# Install Vulkan libraries\n",
        "!apt install -y libvulkan-dev"
      ],
      "execution_count": null,
      "outputs": []
    },
    {
      "cell_type": "code",
      "metadata": {
        "id": "8tIjl0gKxpBL",
        "colab_type": "code",
        "colab": {}
      },
      "source": [
        "# Install a newer python version\n",
        "!add-apt-repository -y ppa:deadsnakes/ppa\n",
        "!apt install -y python3.8"
      ],
      "execution_count": null,
      "outputs": []
    },
    {
      "cell_type": "code",
      "metadata": {
        "id": "vO1gsiIQArBW",
        "colab_type": "code",
        "colab": {}
      },
      "source": [
        "# Test python version\n",
        "!python3.8 --version"
      ],
      "execution_count": null,
      "outputs": []
    },
    {
      "cell_type": "code",
      "metadata": {
        "id": "TUU4As0Mv9TK",
        "colab_type": "code",
        "colab": {}
      },
      "source": [
        "# Download DAIN-Vulkan-GUI\n",
        "%cd /content/\n",
        "!git clone https://github.com/Mar2ck/DAIN-Vulkan-GUI"
      ],
      "execution_count": null,
      "outputs": []
    },
    {
      "cell_type": "code",
      "metadata": {
        "id": "Y7CJ2apU44Vc",
        "colab_type": "code",
        "colab": {}
      },
      "source": [
        "# Run DAINVulkanCLI\n",
        "%cd /content/DAIN-Vulkan-GUI/src/\n",
        "!python3.8 DAINVulkanCLI.py -i \"/content/drive/My Drive/Videos/input.mp4\" -O \"/content/\" -t 2048 --interpolator \"cain-ncnn\""
      ],
      "execution_count": null,
      "outputs": []
    }
  ]
}