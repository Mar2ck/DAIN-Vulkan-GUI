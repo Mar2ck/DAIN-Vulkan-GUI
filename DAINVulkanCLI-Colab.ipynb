{
  "nbformat": 4,
  "nbformat_minor": 0,
  "metadata": {
    "colab": {
      "name": "DAINVulkanCLI-Colab.ipynb",
      "provenance": [],
      "private_outputs": true,
      "collapsed_sections": [],
      "toc_visible": true
    },
    "kernelspec": {
      "name": "python3",
      "display_name": "Python 3"
    },
    "accelerator": "GPU"
  },
  "cells": [
    {
      "cell_type": "markdown",
      "metadata": {
        "id": "F78H7JkR5c49"
      },
      "source": [
        "# DAIN-Vulkan-GUI Colab\n",
        "[Mar2ck/DAIN-Vulkan-GUI](https://github.com/Mar2ck/DAIN-Vulkan-GUI/)"
      ]
    },
    {
      "cell_type": "code",
      "metadata": {
        "id": "-OapminG4kJV"
      },
      "source": [
        "# Connect Google Drive\n",
        "from google.colab import drive\n",
        "drive.mount('/content/drive')\n",
        "print('Google Drive connected.')"
      ],
      "execution_count": null,
      "outputs": []
    },
    {
      "cell_type": "code",
      "metadata": {
        "id": "O0fPt2JG4014"
      },
      "source": [
        "# Check GPU\n",
        "!nvidia-smi"
      ],
      "execution_count": null,
      "outputs": []
    },
    {
      "cell_type": "code",
      "metadata": {
        "id": "U94yuBubvpZo"
      },
      "source": [
        "# Install Vulkan libraries\n",
        "!apt install -y libvulkan1"
      ],
      "execution_count": null,
      "outputs": []
    },
    {
      "cell_type": "code",
      "metadata": {
        "id": "TUU4As0Mv9TK"
      },
      "source": [
        "# Download DAIN-Vulkan-GUI\n",
        "!git clone https://github.com/Mar2ck/DAIN-Vulkan-GUI"
      ],
      "execution_count": null,
      "outputs": []
    },
    {
      "cell_type": "code",
      "metadata": {
        "id": "heZk2eVricsn"
      },
      "source": [
        "# Download dependencies\n",
        "!wget \"https://github.com/Mar2ck/DAIN-Vulkan-GUI/releases/download/0.0.2/dependencies-linux.tar.xz\"\n",
        "!tar -xvf dependencies-linux.tar.xz -C ./DAIN-Vulkan-GUI/src/\n",
        "!python3 -m pip install -r /content/DAIN-Vulkan-GUI/requirements.txt\n",
        "!python3 -m pip install -r /content/DAIN-Vulkan-GUI/requirements-optional.txt"
      ],
      "execution_count": null,
      "outputs": []
    },
    {
      "cell_type": "code",
      "metadata": {
        "id": "YV2Pz_VLlYw2"
      },
      "source": [
        "# Check help page\n",
        "!python3 /content/DAIN-Vulkan-GUI/src/DAINVulkanCLI.py --help"
      ],
      "execution_count": null,
      "outputs": []
    },
    {
      "cell_type": "code",
      "metadata": {
        "id": "Y7CJ2apU44Vc"
      },
      "source": [
        "# Run DAINVulkanCLI\n",
        "!python3 /content/DAIN-Vulkan-GUI/src/DAINVulkanCLI.py -i \"/content/drive/My Drive/Videos/example.mp4\" -O \"/content/\" -t 2048 --interpolator \"cain-ncnn\""
      ],
      "execution_count": null,
      "outputs": []
    }
  ]
}